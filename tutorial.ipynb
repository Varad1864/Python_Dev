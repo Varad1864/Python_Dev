{
 "cells": [
  {
   "cell_type": "code",
   "execution_count": null,
   "id": "93c0b8ff",
   "metadata": {},
   "outputs": [],
   "source": []
  },
  {
   "cell_type": "markdown",
   "id": "765d92fd",
   "metadata": {},
   "source": [
    "<h3>wirte a program to perform different arithmetic operations on numbers in python</h3>"
   ]
  },
  {
   "cell_type": "code",
   "execution_count": 2,
   "id": "34ddbc2d",
   "metadata": {},
   "outputs": [
    {
     "name": "stdout",
     "output_type": "stream",
     "text": [
      "Addition: 63.0\n",
      "Subtraction: 21.0\n",
      "Multiplication: 882.0\n",
      "Division: 2.0\n",
      "Modulus: 0.0\n"
     ]
    }
   ],
   "source": [
    "num1 = float(input(\"Enter first number: \"))\n",
    "num2 = float(input(\"Enter second number: \"))\n",
    "\n",
    "addition = num1 + num2\n",
    "subtraction = num1 - num2\n",
    "multiplication = num1 * num2\n",
    "\n",
    "if num2 != 0:\n",
    "    division = num1 / num2\n",
    "    modulus = num1 % num2\n",
    "else:\n",
    "    division = 'Undefined (cannot divide by zero)'\n",
    "    modulus = 'Undefined (cannot mod by zero)'\n",
    "\n",
    "print(\"Addition:\", addition)\n",
    "print(\"Subtraction:\", subtraction)\n",
    "print(\"Multiplication:\", multiplication)\n",
    "print(\"Division:\", division)\n",
    "print(\"Modulus:\", modulus)\n"
   ]
  },
  {
   "cell_type": "markdown",
   "id": "29053073",
   "metadata": {},
   "source": [
    "<h3>Write a program to create, concatenate and print a string and accessing sub-string from given string.</h3>"
   ]
  },
  {
   "cell_type": "code",
   "execution_count": 9,
   "id": "376ffffb",
   "metadata": {},
   "outputs": [
    {
     "name": "stdout",
     "output_type": "stream",
     "text": [
      "Concatenated String: Hello World\n",
      "First Substring: Hello\n",
      "Second Substring: World\n"
     ]
    }
   ],
   "source": [
    "str1 = \"Hello\"\n",
    "str2 = \"World\"\n",
    "\n",
    "result = str1 + \" \" + str2   # Adds a space between str1 and str2\n",
    "\n",
    "print(\"Concatenated String:\", result)\n",
    "\n",
    "substring1 = result[0:5]\n",
    "print(\"First Substring:\", substring1)\n",
    "\n",
    "substring2 = result[6:11]\n",
    "print(\"Second Substring:\", substring2)\n"
   ]
  },
  {
   "cell_type": "markdown",
   "id": "23984b7b",
   "metadata": {},
   "source": [
    "<h3>Write a Python program to Remove all duplicates from a given string in Python</h3>"
   ]
  },
  {
   "cell_type": "code",
   "execution_count": 13,
   "id": "e4a86d2c",
   "metadata": {},
   "outputs": [
    {
     "name": "stdout",
     "output_type": "stream",
     "text": [
      "String after removing duplicates: progamin\n"
     ]
    }
   ],
   "source": [
    "input_str = input(\"Enter a string:\")\n",
    "\n",
    "result = \"\"\n",
    "\n",
    "seen = set()\n",
    "\n",
    "for char in input_str:\n",
    "    if char not in seen:\n",
    "        result += char       \n",
    "        seen.add(char)      \n",
    "\n",
    "print(\"String after removing duplicates:\", result)"
   ]
  }
 ],
 "metadata": {
  "kernelspec": {
   "display_name": "Python 3",
   "language": "python",
   "name": "python3"
  },
  "language_info": {
   "codemirror_mode": {
    "name": "ipython",
    "version": 3
   },
   "file_extension": ".py",
   "mimetype": "text/x-python",
   "name": "python",
   "nbconvert_exporter": "python",
   "pygments_lexer": "ipython3",
   "version": "3.13.0"
  }
 },
 "nbformat": 4,
 "nbformat_minor": 5
}
