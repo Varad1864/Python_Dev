{
 "cells": [
  {
   "cell_type": "code",
   "execution_count": null,
   "id": "93c0b8ff",
   "metadata": {},
   "outputs": [],
   "source": []
  },
  {
   "cell_type": "code",
   "execution_count": 2,
   "id": "34ddbc2d",
   "metadata": {},
   "outputs": [
    {
     "name": "stdout",
     "output_type": "stream",
     "text": [
      "Addition: 63.0\n",
      "Subtraction: 21.0\n",
      "Multiplication: 882.0\n",
      "Division: 2.0\n",
      "Modulus: 0.0\n"
     ]
    }
   ],
   "source": [
    "num1 = float(input(\"Enter first number: \"))\n",
    "num2 = float(input(\"Enter second number: \"))\n",
    "\n",
    "addition = num1 + num2\n",
    "subtraction = num1 - num2\n",
    "multiplication = num1 * num2\n",
    "\n",
    "if num2 != 0:\n",
    "    division = num1 / num2\n",
    "    modulus = num1 % num2\n",
    "else:\n",
    "    division = 'Undefined (cannot divide by zero)'\n",
    "    modulus = 'Undefined (cannot mod by zero)'\n",
    "\n",
    "print(\"Addition:\", addition)\n",
    "print(\"Subtraction:\", subtraction)\n",
    "print(\"Multiplication:\", multiplication)\n",
    "print(\"Division:\", division)\n",
    "print(\"Modulus:\", modulus)\n"
   ]
  },
  {
   "cell_type": "code",
   "execution_count": null,
   "id": "0b28d305",
   "metadata": {},
   "outputs": [],
   "source": []
  },
  {
   "cell_type": "code",
   "execution_count": null,
   "id": "376ffffb",
   "metadata": {},
   "outputs": [],
   "source": []
  }
 ],
 "metadata": {
  "kernelspec": {
   "display_name": "Python 3",
   "language": "python",
   "name": "python3"
  },
  "language_info": {
   "codemirror_mode": {
    "name": "ipython",
    "version": 3
   },
   "file_extension": ".py",
   "mimetype": "text/x-python",
   "name": "python",
   "nbconvert_exporter": "python",
   "pygments_lexer": "ipython3",
   "version": "3.13.0"
  }
 },
 "nbformat": 4,
 "nbformat_minor": 5
}
