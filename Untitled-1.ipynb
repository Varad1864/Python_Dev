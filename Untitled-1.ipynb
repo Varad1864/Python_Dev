{
 "cells": [
  {
   "cell_type": "code",
   "execution_count": 1,
   "id": "20500a11",
   "metadata": {},
   "outputs": [
    {
     "name": "stdout",
     "output_type": "stream",
     "text": [
      "Name : Varad\n"
     ]
    }
   ],
   "source": [
    "a = input (\"Enter Your Name:\")\n",
    "print(\"Name :\",a)"
   ]
  },
  {
   "cell_type": "markdown",
   "id": "3ef46e86",
   "metadata": {},
   "source": [
    "<h1>Main Heading</h1>"
   ]
  },
  {
   "cell_type": "markdown",
   "id": "fe80d549",
   "metadata": {},
   "source": [
    "<h2>Sub heading</h2>"
   ]
  },
  {
   "cell_type": "markdown",
   "id": "3b51e713",
   "metadata": {},
   "source": [
    "|Name|PRN|\n",
    "|---|---|\n",
    "|Varad|7|"
   ]
  },
  {
   "cell_type": "markdown",
   "id": "742f21ff",
   "metadata": {},
   "source": [
    "|Institution|College|\n",
    "|-|-|\n",
    "|MIT|MIT-WPU|"
   ]
  }
 ],
 "metadata": {
  "kernelspec": {
   "display_name": "Python 3",
   "language": "python",
   "name": "python3"
  },
  "language_info": {
   "codemirror_mode": {
    "name": "ipython",
    "version": 3
   },
   "file_extension": ".py",
   "mimetype": "text/x-python",
   "name": "python",
   "nbconvert_exporter": "python",
   "pygments_lexer": "ipython3",
   "version": "3.13.0"
  }
 },
 "nbformat": 4,
 "nbformat_minor": 5
}
