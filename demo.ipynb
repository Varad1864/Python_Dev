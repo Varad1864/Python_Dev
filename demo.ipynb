{
 "cells": [
  {
   "cell_type": "markdown",
   "id": "c4de4ced",
   "metadata": {},
   "source": [
    "<h1>Netflix</h1>"
   ]
  },
  {
   "cell_type": "code",
   "execution_count": 3,
   "id": "994c9c82",
   "metadata": {},
   "outputs": [],
   "source": [
    "user_name = input(\"Enter your name:\")\n",
    "user_password = input(\"Enter your password:\")"
   ]
  },
  {
   "cell_type": "code",
   "execution_count": 4,
   "id": "2b0d04a7",
   "metadata": {},
   "outputs": [
    {
     "name": "stdout",
     "output_type": "stream",
     "text": [
      "Login to your Netflix Account\n",
      "Login Successful!\n"
     ]
    }
   ],
   "source": [
    "print(f\"Login to your Netflix Account\")\n",
    "uname = input(\"Enter your username: \")\n",
    "pword = input(\"Enter your password: \")\n",
    "if uname == user_name and pword == user_password:\n",
    "    print(\"Login Successful!\")\n",
    "else: \n",
    "    print(f\"Login Failed!\")"
   ]
  },
  {
   "cell_type": "code",
   "execution_count": 7,
   "id": "271a77be",
   "metadata": {},
   "outputs": [
    {
     "name": "stdout",
     "output_type": "stream",
     "text": [
      "{1, 2, 3, 4, 5, 6, 7, 8}\n"
     ]
    }
   ],
   "source": [
    "sets={1,2,3,4,5,5,5,6,7,8,}\n",
    "print(sets)"
   ]
  },
  {
   "cell_type": "code",
   "execution_count": 16,
   "id": "c4ea5af1",
   "metadata": {},
   "outputs": [],
   "source": [
    "movies = {\n",
    "    \"Inception\": {\n",
    "        \"year\": 2010,\n",
    "        \"genre\": \"Science Fiction\"\n",
    "    },\n",
    "    \"The Godfather\": {\n",
    "        \"year\": 1972,\n",
    "        \"genre\": \"Crime\"\n",
    "    },\n",
    "    \"Spirited Away\": {\n",
    "        \"year\": 2001,\n",
    "        \"genre\": \"Science Fiction\"\n",
    "    }\n",
    "}\n"
   ]
  },
  {
   "cell_type": "code",
   "execution_count": null,
   "id": "57f5db1e",
   "metadata": {},
   "outputs": [
    {
     "name": "stdout",
     "output_type": "stream",
     "text": [
      "Inception\n",
      "Spirited Away\n"
     ]
    }
   ],
   "source": [
    "for movie in movies:\n",
    "    if movies[movie][\"genre\"] == \"Science Fiction\":\n",
    "        print(movie)\n"
   ]
  }
 ],
 "metadata": {
  "kernelspec": {
   "display_name": "Python 3",
   "language": "python",
   "name": "python3"
  },
  "language_info": {
   "codemirror_mode": {
    "name": "ipython",
    "version": 3
   },
   "file_extension": ".py",
   "mimetype": "text/x-python",
   "name": "python",
   "nbconvert_exporter": "python",
   "pygments_lexer": "ipython3",
   "version": "3.13.0"
  }
 },
 "nbformat": 4,
 "nbformat_minor": 5
}
